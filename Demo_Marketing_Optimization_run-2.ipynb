{
 "cells": [
  {
   "cell_type": "markdown",
   "metadata": {},
   "source": [
    "# Marketing Optimization Demo\n",
    "In this notebook, we will go through a simple demo to show how IBM Decision Optimization will assist the marketing operations to get the best output based on predicted data file 'offers.csv'."
   ]
  },
  {
   "cell_type": "code",
   "execution_count": 1,
   "metadata": {},
   "outputs": [
    {
     "name": "stdout",
     "output_type": "stream",
     "text": [
      "Requirement already satisfied: wget in /anaconda3/lib/python3.6/site-packages (3.2)\r\n"
     ]
    }
   ],
   "source": [
    "!pip install wget"
   ]
  },
  {
   "cell_type": "code",
   "execution_count": 2,
   "metadata": {},
   "outputs": [
    {
     "name": "stdout",
     "output_type": "stream",
     "text": [
      "ls: offer.csv: No such file or directory\r\n"
     ]
    }
   ],
   "source": [
    "import wget\n",
    "url_offer='https://raw.githubusercontent.com/Dylansafool/HandsOn-Notebook/master/offers.csv'\n",
    "\n",
    "#remove existing files before downloading\n",
    "!rm -f offer.csv\n",
    "\n",
    "offer_Filename=wget.download(url_offer)\n",
    "\n",
    "#list existing files\n",
    "!ls -l offer.csv"
   ]
  },
  {
   "cell_type": "code",
   "execution_count": 3,
   "metadata": {
    "scrolled": true
   },
   "outputs": [
    {
     "data": {
      "text/html": [
       "<div>\n",
       "<style scoped>\n",
       "    .dataframe tbody tr th:only-of-type {\n",
       "        vertical-align: middle;\n",
       "    }\n",
       "\n",
       "    .dataframe tbody tr th {\n",
       "        vertical-align: top;\n",
       "    }\n",
       "\n",
       "    .dataframe thead th {\n",
       "        text-align: right;\n",
       "    }\n",
       "</style>\n",
       "<table border=\"1\" class=\"dataframe\">\n",
       "  <thead>\n",
       "    <tr style=\"text-align: right;\">\n",
       "      <th></th>\n",
       "      <th>index</th>\n",
       "      <th>age</th>\n",
       "      <th>income</th>\n",
       "      <th>members_in_household</th>\n",
       "      <th>loan_accounts</th>\n",
       "      <th>Savings</th>\n",
       "      <th>Mortgage</th>\n",
       "      <th>Pension</th>\n",
       "      <th>id</th>\n",
       "      <th>nb_products</th>\n",
       "    </tr>\n",
       "  </thead>\n",
       "  <tbody>\n",
       "    <tr>\n",
       "      <th>0</th>\n",
       "      <td>0</td>\n",
       "      <td>38</td>\n",
       "      <td>47958.0</td>\n",
       "      <td>4</td>\n",
       "      <td>1</td>\n",
       "      <td>0</td>\n",
       "      <td>0</td>\n",
       "      <td>0</td>\n",
       "      <td>44256</td>\n",
       "      <td>0</td>\n",
       "    </tr>\n",
       "    <tr>\n",
       "      <th>1</th>\n",
       "      <td>1</td>\n",
       "      <td>30</td>\n",
       "      <td>48606.0</td>\n",
       "      <td>2</td>\n",
       "      <td>4</td>\n",
       "      <td>0</td>\n",
       "      <td>0</td>\n",
       "      <td>0</td>\n",
       "      <td>46883</td>\n",
       "      <td>0</td>\n",
       "    </tr>\n",
       "    <tr>\n",
       "      <th>2</th>\n",
       "      <td>2</td>\n",
       "      <td>41</td>\n",
       "      <td>42152.0</td>\n",
       "      <td>4</td>\n",
       "      <td>0</td>\n",
       "      <td>0</td>\n",
       "      <td>0</td>\n",
       "      <td>0</td>\n",
       "      <td>32387</td>\n",
       "      <td>0</td>\n",
       "    </tr>\n",
       "    <tr>\n",
       "      <th>3</th>\n",
       "      <td>3</td>\n",
       "      <td>42</td>\n",
       "      <td>39788.0</td>\n",
       "      <td>3</td>\n",
       "      <td>3</td>\n",
       "      <td>0</td>\n",
       "      <td>0</td>\n",
       "      <td>0</td>\n",
       "      <td>25504</td>\n",
       "      <td>0</td>\n",
       "    </tr>\n",
       "    <tr>\n",
       "      <th>4</th>\n",
       "      <td>4</td>\n",
       "      <td>42</td>\n",
       "      <td>44365.0</td>\n",
       "      <td>6</td>\n",
       "      <td>2</td>\n",
       "      <td>0</td>\n",
       "      <td>1</td>\n",
       "      <td>0</td>\n",
       "      <td>35979</td>\n",
       "      <td>1</td>\n",
       "    </tr>\n",
       "  </tbody>\n",
       "</table>\n",
       "</div>"
      ],
      "text/plain": [
       "   index  age   income  members_in_household  loan_accounts  Savings  \\\n",
       "0      0   38  47958.0                     4              1        0   \n",
       "1      1   30  48606.0                     2              4        0   \n",
       "2      2   41  42152.0                     4              0        0   \n",
       "3      3   42  39788.0                     3              3        0   \n",
       "4      4   42  44365.0                     6              2        0   \n",
       "\n",
       "   Mortgage  Pension     id  nb_products  \n",
       "0         0        0  44256            0  \n",
       "1         0        0  46883            0  \n",
       "2         0        0  32387            0  \n",
       "3         0        0  25504            0  \n",
       "4         1        0  35979            1  "
      ]
     },
     "execution_count": 3,
     "metadata": {},
     "output_type": "execute_result"
    }
   ],
   "source": [
    "import pandas as pd\n",
    "\n",
    "# Read in predicted new offer targeted customer data\n",
    "offers = pd.read_csv(\"offers.csv\", index_col=0)\n",
    "\n",
    "offers.head()"
   ]
  },
  {
   "cell_type": "markdown",
   "metadata": {},
   "source": [
    "Within the CSV file, there are promotion offer predictions for 2756 new customers. The prediction is based on their age, income, members in household and loan account numbers. But the marketing budget is limited. To get the best outcome, a marketing optimization is deployed as follows."
   ]
  },
  {
   "cell_type": "markdown",
   "metadata": {},
   "source": [
    "## Preparations\n",
    "It requires [IBM Watson Studio Cloud](https://www.ibm.com/cloud/watson-studio/>) (Sign up for a [free IBM Cloud account](https://dataplatform.cloud.ibm.com/registration/stepone?context=wdp&apps=all>)\n",
    "and you can start using this notebook on Watson Studio Cloud right away).\n",
    "\n",
    "## Step 1 Install IBM docplex package"
   ]
  },
  {
   "cell_type": "code",
   "execution_count": 4,
   "metadata": {
    "colab": {
     "base_uri": "https://localhost:8080/",
     "height": 178
    },
    "colab_type": "code",
    "id": "AsTVcBOf6IW7",
    "outputId": "95e33fe1-4d42-4131-a089-428e57467ee8"
   },
   "outputs": [
    {
     "name": "stdout",
     "output_type": "stream",
     "text": [
      "Requirement already satisfied: docplex in /anaconda3/lib/python3.6/site-packages (2.9.141)\r\n",
      "Requirement already satisfied: six in /anaconda3/lib/python3.6/site-packages (from docplex) (1.11.0)\r\n",
      "Requirement already satisfied: requests in /anaconda3/lib/python3.6/site-packages (from docplex) (2.18.4)\r\n",
      "Requirement already satisfied: docloud>=1.0.315 in /anaconda3/lib/python3.6/site-packages (from docplex) (1.0.375)\r\n",
      "Requirement already satisfied: chardet<3.1.0,>=3.0.2 in /anaconda3/lib/python3.6/site-packages (from requests->docplex) (3.0.4)\r\n",
      "Requirement already satisfied: idna<2.7,>=2.5 in /anaconda3/lib/python3.6/site-packages (from requests->docplex) (2.6)\r\n",
      "Requirement already satisfied: urllib3<1.23,>=1.21.1 in /anaconda3/lib/python3.6/site-packages (from requests->docplex) (1.22)\r\n",
      "Requirement already satisfied: certifi>=2017.4.17 in /anaconda3/lib/python3.6/site-packages (from requests->docplex) (2019.3.9)\r\n"
     ]
    }
   ],
   "source": [
    "# install DO package\n",
    "!pip install docplex"
   ]
  },
  {
   "cell_type": "code",
   "execution_count": 5,
   "metadata": {
    "colab": {},
    "colab_type": "code",
    "id": "4XyS6Qwu6ZXp"
   },
   "outputs": [],
   "source": [
    "# import related module\n",
    "import sys\n",
    "import docplex.mp\n",
    "\n",
    "# ingore the warnings\n",
    "import warnings\n",
    "warnings.filterwarnings('ignore')"
   ]
  },
  {
   "cell_type": "markdown",
   "metadata": {},
   "source": [
    "## Step 2 Problem Description\n",
    "\n",
    "* For this case, we have a total of \\$25000 marketing budget. \n",
    "\n",
    "* For the 2756 target customers, there are three products we want to sell: 'Saving', 'Mortgage' and 'Pension'. Each product has its own revenue.\n",
    "\n",
    "* We have three marketing channels ('gift', 'newsletter' and 'seminar'). Each channel has its own cost per customer and successful rate. \n",
    "\n",
    "* From the previous predictive analysis, we have collected the data and known which product is the best to offer to each customer. \n",
    "\n",
    "Since the budget is limited, Marketing offers need to be decided in this way:\n",
    "\n",
    "* Every Channel has at least 10\\% of the total offers \n",
    "* At most 1 product is offered to each customer\n",
    "* Total offer cost should be within the budget"
   ]
  },
  {
   "cell_type": "code",
   "execution_count": 6,
   "metadata": {
    "colab": {},
    "colab_type": "code",
    "id": "2Q0vKpIoBaCC"
   },
   "outputs": [],
   "source": [
    "# Total available budget\n",
    "availableBudget = 25000\n",
    "\n",
    "# Three products to sell\n",
    "products = [\"Savings\", \"Mortgage\", \"Pension\"]\n",
    "# How much revenue is earned when selling each product\n",
    "productValue = [200, 300, 400]\n",
    "value_per_product = {products[i] : productValue[i] for i in range(len(products))}\n",
    "\n",
    "# Three marketing channels with cost and successful rate information\n",
    "channels =  pd.DataFrame(data=[(\"gift\", 20.0, 0.20), \n",
    "                               (\"newsletter\", 15.0, 0.05), \n",
    "                               (\"seminar\", 23.0, 0.30)], columns=[\"name\", \"cost\", \"factor\"])\n",
    "\n",
    "# get the range for offers, products and channels\n",
    "offersR = range(0, len(offers))\n",
    "productsR = range(0, len(products))\n",
    "channelsR = range(0, len(channels))"
   ]
  },
  {
   "cell_type": "code",
   "execution_count": 7,
   "metadata": {
    "colab": {
     "base_uri": "https://localhost:8080/",
     "height": 136
    },
    "colab_type": "code",
    "id": "0Qmlm0qiBgKa",
    "outputId": "0d515459-0fc5-4fc3-b448-50c435fdd1f7",
    "scrolled": true
   },
   "outputs": [
    {
     "data": {
      "text/html": [
       "<div>\n",
       "<style scoped>\n",
       "    .dataframe tbody tr th:only-of-type {\n",
       "        vertical-align: middle;\n",
       "    }\n",
       "\n",
       "    .dataframe tbody tr th {\n",
       "        vertical-align: top;\n",
       "    }\n",
       "\n",
       "    .dataframe thead th {\n",
       "        text-align: right;\n",
       "    }\n",
       "</style>\n",
       "<table border=\"1\" class=\"dataframe\">\n",
       "  <thead>\n",
       "    <tr style=\"text-align: right;\">\n",
       "      <th></th>\n",
       "      <th>name</th>\n",
       "      <th>cost</th>\n",
       "      <th>factor</th>\n",
       "    </tr>\n",
       "  </thead>\n",
       "  <tbody>\n",
       "    <tr>\n",
       "      <th>0</th>\n",
       "      <td>gift</td>\n",
       "      <td>20.0</td>\n",
       "      <td>0.20</td>\n",
       "    </tr>\n",
       "    <tr>\n",
       "      <th>1</th>\n",
       "      <td>newsletter</td>\n",
       "      <td>15.0</td>\n",
       "      <td>0.05</td>\n",
       "    </tr>\n",
       "    <tr>\n",
       "      <th>2</th>\n",
       "      <td>seminar</td>\n",
       "      <td>23.0</td>\n",
       "      <td>0.30</td>\n",
       "    </tr>\n",
       "  </tbody>\n",
       "</table>\n",
       "</div>"
      ],
      "text/plain": [
       "         name  cost  factor\n",
       "0        gift  20.0    0.20\n",
       "1  newsletter  15.0    0.05\n",
       "2     seminar  23.0    0.30"
      ]
     },
     "execution_count": 7,
     "metadata": {},
     "output_type": "execute_result"
    }
   ],
   "source": [
    "channels"
   ]
  },
  {
   "cell_type": "markdown",
   "metadata": {},
   "source": [
    "## Step 3 Setup URL and Key from Decision Optimization on cloud\n",
    "After sign-up of IBM cloud account, login and go to this website:\n",
    "https://dropsolve-oaas.docloud.ibmcloud.com/dropsolve/api to get API key and base URL.\n",
    "\n",
    "### !!!Change the URL and Key, otherwise this notebook can not run!!!"
   ]
  },
  {
   "cell_type": "code",
   "execution_count": 8,
   "metadata": {
    "colab": {},
    "colab_type": "code",
    "id": "A8A9h_db6d4e"
   },
   "outputs": [],
   "source": [
    "# setup IBM Decision Optimization environment\n",
    "url = \"https://api-oaas.docloud.ibmcloud.com/job_manager/rest/v1/\"\n",
    "key = \"api_c9c32757-0856-493b-b924-5b8155c384c0\"\n",
    "\n",
    "from docplex.mp.context import Context\n",
    "context = Context.make_default_context()\n",
    "\n",
    "context.solver.docloud.url = url\n",
    "context.solver.docloud.key = key\n",
    "context.solver.agent = 'docloud'"
   ]
  },
  {
   "cell_type": "markdown",
   "metadata": {},
   "source": [
    "## Step 4 Starting build up an optimization model\n",
    "\n",
    "### Starting the Decision Optimization environment"
   ]
  },
  {
   "cell_type": "code",
   "execution_count": 9,
   "metadata": {
    "colab": {},
    "colab_type": "code",
    "id": "sse0d9jZ_dQ4"
   },
   "outputs": [],
   "source": [
    "# Starting a Decision Optimization model\n",
    "from docplex.mp.model import Model\n",
    "\n",
    "mdl = Model(name=\"marketing_campaign\", checker='on', context=context)"
   ]
  },
  {
   "cell_type": "markdown",
   "metadata": {},
   "source": [
    "### Define the decision varibales ( Choices of actions)"
   ]
  },
  {
   "cell_type": "code",
   "execution_count": 10,
   "metadata": {
    "colab": {},
    "colab_type": "code",
    "id": "CrKhVOGA_zLI"
   },
   "outputs": [],
   "source": [
    "# These varibales are binary with three dimesion (offer, product, channel)\n",
    "# binary means the value is either 0 or 1\n",
    "# Variable X(offer_i, product_j, channel_k) = 1 means for customer i, use channel k to promote product j\n",
    "# otherwise the variable is 0\n",
    "\n",
    "channelVars = mdl.binary_var_cube(offersR, productsR, channelsR)"
   ]
  },
  {
   "cell_type": "markdown",
   "metadata": {},
   "source": [
    "### Define the constrains (Limits of the reality)"
   ]
  },
  {
   "cell_type": "code",
   "execution_count": 11,
   "metadata": {
    "colab": {
     "base_uri": "https://localhost:8080/",
     "height": 122
    },
    "colab_type": "code",
    "id": "S_eW458e_zlA",
    "outputId": "7cec8c24-9f90-4b3d-ba52-9b3035b537e0"
   },
   "outputs": [
    {
     "name": "stdout",
     "output_type": "stream",
     "text": [
      "Model: marketing_campaign\n",
      " - number of variables: 24804\n",
      "   - binary=24804, integer=0, continuous=0\n",
      " - number of constraints: 2760\n",
      "   - linear=2760\n",
      " - parameters: defaults\n"
     ]
    }
   ],
   "source": [
    "# At most 1 product is offered to each customer\n",
    "mdl.add_constraints( mdl.sum(channelVars[o,p,c] for p in productsR for c in channelsR) <=1 for o in offersR)\n",
    "\n",
    "# Do not exceed the budget\n",
    "mdl.add_constraint( mdl.sum(channelVars[o,p,c]*channels.get_value(index=c, col=\"cost\") \n",
    "                                           for o in offersR \n",
    "                                           for p in productsR \n",
    "                                           for c in channelsR)  <= availableBudget, \"budget\")  \n",
    "\n",
    "# At least 10% offers per channel\n",
    "for c in channelsR:\n",
    "    mdl.add_constraint(mdl.sum(channelVars[o,p,c] for p in productsR for o in offersR) >= len(offers) // 10)\n",
    "\n",
    "    \n",
    "# print the information of this model\n",
    "mdl.print_information()"
   ]
  },
  {
   "cell_type": "markdown",
   "metadata": {},
   "source": [
    "### Setup the objective value (Target)\n",
    "Max the products revenue with current predicted data"
   ]
  },
  {
   "cell_type": "code",
   "execution_count": 12,
   "metadata": {
    "colab": {},
    "colab_type": "code",
    "id": "Uv1VKTr7_1L4"
   },
   "outputs": [],
   "source": [
    "# for each offer action, the coefficient = successful rate(factor)* product revenue\n",
    "# sum the action*coefficient as the objective vaule and maximize it\n",
    "obj = 0\n",
    "\n",
    "for c in channelsR:\n",
    "    for p in productsR:\n",
    "        product=products[p]\n",
    "        coef = channels.get_value(index=c, col=\"factor\") * value_per_product[product]\n",
    "        obj += mdl.sum(channelVars[o,p,c] * coef* offers.get_value(index=o, col=product) for o in offersR)\n",
    "\n",
    "mdl.maximize(obj)"
   ]
  },
  {
   "cell_type": "markdown",
   "metadata": {},
   "source": [
    "### Solve the model and get the results"
   ]
  },
  {
   "cell_type": "code",
   "execution_count": 13,
   "metadata": {
    "colab": {
     "base_uri": "https://localhost:8080/",
     "height": 122
    },
    "colab_type": "code",
    "id": "G6EBNkTuAn7g",
    "outputId": "b1b3fba5-a02e-4218-8c82-d38542a66870"
   },
   "outputs": [
    {
     "name": "stdout",
     "output_type": "stream",
     "text": [
      "JobSolveStatus.OPTIMAL_SOLUTION\n",
      "status  = integer optimal solution\n",
      "time    = 0.945038 s.\n",
      "problem = MILP\n",
      "gap     = 0%\n",
      "\n"
     ]
    }
   ],
   "source": [
    "# set the time limit for solving the model\n",
    "mdl.parameters.timelimit = 30\n",
    "\n",
    "# solve the model\n",
    "s = mdl.solve()\n",
    "\n",
    "# make sure it has a solution\n",
    "assert s, \"No Solution !!!\"\n",
    "\n",
    "# print the solution\n",
    "print(mdl.get_solve_status())\n",
    "print(mdl.get_solve_details())"
   ]
  },
  {
   "cell_type": "markdown",
   "metadata": {},
   "source": [
    "## Step 5 Analyze the solution\n",
    "Counting the offer numbers for each productions and each channel and save as KPI"
   ]
  },
  {
   "cell_type": "code",
   "execution_count": 14,
   "metadata": {
    "colab": {},
    "colab_type": "code",
    "id": "hJA8w8UKCOhP"
   },
   "outputs": [],
   "source": [
    "# setup KPI for the model\n",
    "totaloffers = mdl.sum(channelVars[o,p,c] \n",
    "                      for o in offersR\n",
    "                      for p in productsR \n",
    "                      for c in channelsR)\n",
    "mdl.add_kpi(totaloffers, \"nb_offers\")\n",
    "\n",
    "budgetSpent = mdl.sum(channelVars[o,p,c]*channels.get_value(index=c, col=\"cost\") \n",
    "                                           for o in offersR \n",
    "                                           for p in productsR \n",
    "                                           for c in channelsR)\n",
    "mdl.add_kpi(budgetSpent, \"budgetSpent\")\n",
    "\n",
    "for c in channelsR:\n",
    "    channel = channels.get_value(index=c, col=\"name\")\n",
    "    kpi = mdl.sum(channelVars[o,p,c] for p in productsR for o in offersR)\n",
    "    mdl.add_kpi(kpi, channel)\n",
    "\n",
    "for p in productsR:\n",
    "    product = products[p]\n",
    "    kpi = mdl.sum(channelVars[o,p,c] for c in channelsR for o in offersR)\n",
    "    mdl.add_kpi(kpi, product)"
   ]
  },
  {
   "cell_type": "code",
   "execution_count": 15,
   "metadata": {
    "colab": {
     "base_uri": "https://localhost:8080/",
     "height": 175
    },
    "colab_type": "code",
    "id": "AqohXQfFCSyX",
    "outputId": "38eecd8a-dacf-421d-88d9-167e7d68a64f",
    "scrolled": true
   },
   "outputs": [
    {
     "name": "stdout",
     "output_type": "stream",
     "text": [
      "* model marketing_campaign solved with objective = 72620.000\n",
      "*  KPI: nb_offers   = 1218.000\n",
      "*  KPI: budgetSpent = 24989.000\n",
      "*  KPI: gift        = 275.000\n",
      "*  KPI: newsletter  = 275.000\n",
      "*  KPI: seminar     = 668.000\n",
      "*  KPI: Savings     = 693.000\n",
      "*  KPI: Mortgage    = 381.000\n",
      "*  KPI: Pension     = 144.000\n"
     ]
    }
   ],
   "source": [
    "# print out the KPI and objective value\n",
    "mdl.report()"
   ]
  },
  {
   "cell_type": "markdown",
   "metadata": {},
   "source": [
    "### Translate the none zero solutions to offer details and save in text file"
   ]
  },
  {
   "cell_type": "code",
   "execution_count": 16,
   "metadata": {},
   "outputs": [],
   "source": [
    "# Save the offers to act in a text file\n",
    "Result_actions = []\n",
    "for o in offersR:\n",
    "    for p in productsR: \n",
    "        for c in channelsR:\n",
    "            if channelVars[o,p,c].solution_value >= 0.5:\n",
    "                result_line = ('Offer '+str(o)+', ' \n",
    "                               + channels.get_value(index=c, col=\"name\")\n",
    "                               + ', ' + products[p]\n",
    "                              )\n",
    "                Result_actions.append(result_line)"
   ]
  },
  {
   "cell_type": "code",
   "execution_count": 17,
   "metadata": {},
   "outputs": [],
   "source": [
    "with open('Actions_To_Do.txt', 'w') as f:\n",
    "    for item in Result_actions:\n",
    "        f.write(\"%s\\n\" % item)"
   ]
  }
 ],
 "metadata": {
  "colab": {
   "collapsed_sections": [],
   "name": "Marketing_offers_demo.ipynb",
   "provenance": [],
   "version": "0.3.2"
  },
  "kernelspec": {
   "display_name": "Python 3",
   "language": "python",
   "name": "python3"
  },
  "language_info": {
   "codemirror_mode": {
    "name": "ipython",
    "version": 3
   },
   "file_extension": ".py",
   "mimetype": "text/x-python",
   "name": "python",
   "nbconvert_exporter": "python",
   "pygments_lexer": "ipython3",
   "version": "3.6.8"
  }
 },
 "nbformat": 4,
 "nbformat_minor": 1
}
